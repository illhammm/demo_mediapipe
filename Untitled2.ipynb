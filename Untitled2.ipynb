{
  "nbformat": 4,
  "nbformat_minor": 0,
  "metadata": {
    "colab": {
      "provenance": [],
      "authorship_tag": "ABX9TyPlXdZCIBL/37qks0U9hMRS",
      "include_colab_link": true
    },
    "kernelspec": {
      "name": "python3",
      "display_name": "Python 3"
    },
    "language_info": {
      "name": "python"
    }
  },
  "cells": [
    {
      "cell_type": "markdown",
      "metadata": {
        "id": "view-in-github",
        "colab_type": "text"
      },
      "source": [
        "<a href=\"https://colab.research.google.com/github/illhammm/demo_mediapipe/blob/main/Untitled2.ipynb\" target=\"_parent\"><img src=\"https://colab.research.google.com/assets/colab-badge.svg\" alt=\"Open In Colab\"/></a>"
      ]
    },
    {
      "cell_type": "code",
      "execution_count": null,
      "metadata": {
        "colab": {
          "base_uri": "https://localhost:8080/"
        },
        "id": "LsNCZpDU7r6a",
        "outputId": "cb85f70f-403e-4245-f442-53408da0a309"
      },
      "outputs": [
        {
          "output_type": "stream",
          "name": "stdout",
          "text": [
            "Requirement already satisfied: mediapipe in /usr/local/lib/python3.10/dist-packages (0.10.8)\n",
            "Requirement already satisfied: opencv-python in /usr/local/lib/python3.10/dist-packages (4.8.0.76)\n",
            "Requirement already satisfied: absl-py in /usr/local/lib/python3.10/dist-packages (from mediapipe) (1.4.0)\n",
            "Requirement already satisfied: attrs>=19.1.0 in /usr/local/lib/python3.10/dist-packages (from mediapipe) (23.1.0)\n",
            "Requirement already satisfied: flatbuffers>=2.0 in /usr/local/lib/python3.10/dist-packages (from mediapipe) (23.5.26)\n",
            "Requirement already satisfied: matplotlib in /usr/local/lib/python3.10/dist-packages (from mediapipe) (3.7.1)\n",
            "Requirement already satisfied: numpy in /usr/local/lib/python3.10/dist-packages (from mediapipe) (1.23.5)\n",
            "Requirement already satisfied: opencv-contrib-python in /usr/local/lib/python3.10/dist-packages (from mediapipe) (4.8.0.76)\n",
            "Requirement already satisfied: protobuf<4,>=3.11 in /usr/local/lib/python3.10/dist-packages (from mediapipe) (3.20.3)\n",
            "Requirement already satisfied: sounddevice>=0.4.4 in /usr/local/lib/python3.10/dist-packages (from mediapipe) (0.4.6)\n",
            "Requirement already satisfied: CFFI>=1.0 in /usr/local/lib/python3.10/dist-packages (from sounddevice>=0.4.4->mediapipe) (1.16.0)\n",
            "Requirement already satisfied: contourpy>=1.0.1 in /usr/local/lib/python3.10/dist-packages (from matplotlib->mediapipe) (1.2.0)\n",
            "Requirement already satisfied: cycler>=0.10 in /usr/local/lib/python3.10/dist-packages (from matplotlib->mediapipe) (0.12.1)\n",
            "Requirement already satisfied: fonttools>=4.22.0 in /usr/local/lib/python3.10/dist-packages (from matplotlib->mediapipe) (4.45.1)\n",
            "Requirement already satisfied: kiwisolver>=1.0.1 in /usr/local/lib/python3.10/dist-packages (from matplotlib->mediapipe) (1.4.5)\n",
            "Requirement already satisfied: packaging>=20.0 in /usr/local/lib/python3.10/dist-packages (from matplotlib->mediapipe) (23.2)\n",
            "Requirement already satisfied: pillow>=6.2.0 in /usr/local/lib/python3.10/dist-packages (from matplotlib->mediapipe) (9.4.0)\n",
            "Requirement already satisfied: pyparsing>=2.3.1 in /usr/local/lib/python3.10/dist-packages (from matplotlib->mediapipe) (3.1.1)\n",
            "Requirement already satisfied: python-dateutil>=2.7 in /usr/local/lib/python3.10/dist-packages (from matplotlib->mediapipe) (2.8.2)\n",
            "Requirement already satisfied: pycparser in /usr/local/lib/python3.10/dist-packages (from CFFI>=1.0->sounddevice>=0.4.4->mediapipe) (2.21)\n",
            "Requirement already satisfied: six>=1.5 in /usr/local/lib/python3.10/dist-packages (from python-dateutil>=2.7->matplotlib->mediapipe) (1.16.0)\n"
          ]
        }
      ],
      "source": [
        "!pip install mediapipe opencv-python\n"
      ]
    },
    {
      "cell_type": "code",
      "source": [
        "import mediapipe as mp\n",
        "import cv2\n",
        "import numpy as np\n",
        "import uuid\n",
        "import os"
      ],
      "metadata": {
        "id": "qi_0ubKU9bjA"
      },
      "execution_count": null,
      "outputs": []
    },
    {
      "cell_type": "markdown",
      "source": [
        "добавиляем утилиты рисования с ориентирами точек суставов  для модели рук"
      ],
      "metadata": {
        "id": "k75Pob_xThmX"
      }
    },
    {
      "cell_type": "code",
      "source": [
        "mp_drawing = mp.solutions.drawing_utils\n",
        "mp_hands = mp.solutions.hands"
      ],
      "metadata": {
        "id": "VE98rF9W-ZmF"
      },
      "execution_count": null,
      "outputs": []
    },
    {
      "cell_type": "markdown",
      "source": [
        "VideoCapture - для получения изображения в веб-камеры"
      ],
      "metadata": {
        "id": "R6R-2i11P3nw"
      }
    },
    {
      "cell_type": "markdown",
      "source": [
        "VideoCapture(0), здесь 0 это индексация камеры в компьютере, оно может быть и 2, то есть надо подобрать значение для обнаружения камеры"
      ],
      "metadata": {
        "id": "O_fFLqsmQeJL"
      }
    },
    {
      "cell_type": "markdown",
      "source": [
        "пока веб-камера отерыта, то есть пока из оппен, читай то, что ведется по камере\n",
        "red -распаковывает результаты"
      ],
      "metadata": {
        "id": "qrJ7wlfRQ1fO"
      }
    },
    {
      "cell_type": "markdown",
      "source": [
        "отобразить изображене с веб-камеры на экран - imshow"
      ],
      "metadata": {
        "id": "VHKqmKu3RRGD"
      }
    },
    {
      "cell_type": "markdown",
      "source": [
        "Нажимая на \"q\" мы выходим из цикла"
      ],
      "metadata": {
        "id": "3VQqSWnJUWyb"
      }
    },
    {
      "cell_type": "code",
      "source": [
        "cap = cv2.VideoCapture(0)\n",
        "#create exemplar of hands\n",
        "with mp_hands.Hands(min_detection_confidence=0.8, min_tracking_confidence=0.5) as hands:\n",
        "  while cap.isOpened():\n",
        "      ret, frame = cap.read()\n",
        "\n",
        "      #BGR 2 RGB\n",
        "      image = cv2.cvtColor(frame, cv2.COLOR_BGR2RGB)\n",
        "\n",
        "      #Set flag\n",
        "      image.flags.writeable = False\n",
        "\n",
        "      #Detections\n",
        "      results = hands.process(image)\n",
        "\n",
        "      if results.multi_hand_landmarks:\n",
        "        for num, hand in enumerate(results.multi_hand_landmarks):\n",
        "          mp_drawing.draw_landmarks(image, hand, mp_hand.HAND_CONNECTIONS)\n",
        "\n",
        "      #Set flag to true\n",
        "      image.flags.writeable = True\n",
        "\n",
        "      #RGB 2 BGR\n",
        "      image = cv2.cvtColor(image, cv2.COLOR_BGR2RGB)\n",
        "\n",
        "      #Detections\n",
        "      print(results)\n",
        "\n",
        "      cv2.imshow('Mediapipe Feed', frame)\n",
        "\n",
        "      if cv2.waitKey(10) & 0xFF == ord('q'):\n",
        "          break\n",
        "\n",
        "cap.release()\n",
        "cv2.destroyAllWindows()\n"
      ],
      "metadata": {
        "id": "9gcZ15ovPnqM"
      },
      "execution_count": 5,
      "outputs": []
    },
    {
      "cell_type": "code",
      "source": [],
      "metadata": {
        "id": "UZ9kWbcNhrqq"
      },
      "execution_count": null,
      "outputs": []
    },
    {
      "cell_type": "markdown",
      "source": [
        "with mp_hands.Hands(min_detection_confidence=0.8, min_tracking_confidence=0.5) as hands:\n",
        "проходя через минимальная точность обнаружения 80%(0,8), точность отслеживания 50%(0,5)"
      ],
      "metadata": {
        "id": "PW14U85hYpLF"
      }
    },
    {
      "cell_type": "markdown",
      "source": [],
      "metadata": {
        "id": "O4d_W9ejZjDT"
      }
    },
    {
      "cell_type": "markdown",
      "source": [
        " #Detections\n",
        "      image = cv2.cvtColor(frame, cv2.COLOR_BGR2RGB)\n",
        "      тут мы хотим покрасить обнаруженную руку"
      ],
      "metadata": {
        "id": "C-FMnRdGZleC"
      }
    },
    {
      "cell_type": "markdown",
      "source": [
        "сделали флпг записи = ФАЛС\n",
        "image.flags.writeable = False\n",
        "\n",
        "сделали результаты, равные процессу\n",
        "      results = hands.process(image)"
      ],
      "metadata": {
        "id": "mb4rEXEHbFus"
      }
    },
    {
      "cell_type": "markdown",
      "source": [
        "помогает визуализировать обнаруженную руку\n",
        "image.flags.writeable = True\n",
        "      image = cv2.cvtColor(image, cv2.COLOR_BGR2RGB)"
      ],
      "metadata": {
        "id": "qILQ9XxzbrUf"
      }
    },
    {
      "cell_type": "markdown",
      "source": [
        "if results.multi_hand_landmarks:\n",
        "        for num, hand in enumerate(results.multi_hand_landmarks):\n",
        "          mp_drawing.draw_landmarks(image, hand, mp_hand.HAND_CONNECTIONS)\n",
        "зедсь мы просим именно нарисовать кадр по обнаруженным координатам, при этом расматривается сразу нескольно переменных это изображение, рука, и набор ориентиров\n"
      ],
      "metadata": {
        "id": "qtnhR6tWgRe_"
      }
    },
    {
      "cell_type": "code",
      "source": [
        "results.multi_hand_landmarks"
      ],
      "metadata": {
        "id": "iTT84uiAY85u"
      },
      "execution_count": null,
      "outputs": []
    },
    {
      "cell_type": "markdown",
      "source": [
        "после этого высветятся результаты последнего обнаруженноо кадра"
      ],
      "metadata": {
        "id": "CVpF4Vf8e6eK"
      }
    },
    {
      "cell_type": "code",
      "source": [],
      "metadata": {
        "id": "u_vhARRFe_pj"
      },
      "execution_count": null,
      "outputs": []
    }
  ]
}